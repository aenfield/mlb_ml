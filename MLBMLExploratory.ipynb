{
 "cells": [
  {
   "cell_type": "code",
   "execution_count": 59,
   "id": "ba30d623-5cac-4dbc-b9b7-95c30916de06",
   "metadata": {},
   "outputs": [],
   "source": [
    "import pybaseball\n",
    "\n",
    "import pandas as pd\n",
    "import numpy as np\n",
    "\n",
    "import sklearn\n",
    "\n",
    "import matplotlib.pyplot as plt\n",
    "%matplotlib inline \n",
    "import seaborn as sns\n",
    "\n",
    "pd.set_option('display.max_rows', None)"
   ]
  },
  {
   "cell_type": "markdown",
   "id": "cbcd8e7c-6e33-414a-88b6-9826673e3f03",
   "metadata": {},
   "source": [
    "# Data"
   ]
  },
  {
   "cell_type": "code",
   "execution_count": 60,
   "id": "cd66e67e-d92b-4ed4-9b1e-8a9b7304e7a3",
   "metadata": {},
   "outputs": [
    {
     "name": "stdout",
     "output_type": "stream",
     "text": [
      "start_dt 2025-05-04\n",
      "end_dt 2025-05-05\n",
      "Warning: no date range supplied, assuming yesterday's date.\n",
      "This is a large query, it may take a moment to complete\n"
     ]
    },
    {
     "name": "stderr",
     "output_type": "stream",
     "text": [
      " 50%|███████████████████████████████████▌                                   | 1/2 [00:00<00:00,  4.27it/s]/Users/andrewenfield/work/github/mlb_ml/.venv/lib/python3.11/site-packages/pybaseball/datahelpers/postprocessing.py:59: FutureWarning: errors='ignore' is deprecated and will raise in a future version. Use to_datetime without passing `errors` and catch exceptions explicitly instead\n",
      "  data_copy[column] = data_copy[column].apply(pd.to_datetime, errors='ignore', format=date_format)\n",
      "100%|███████████████████████████████████████████████████████████████████████| 2/2 [00:01<00:00,  1.81it/s]\n",
      "/Users/andrewenfield/work/github/mlb_ml/.venv/lib/python3.11/site-packages/pybaseball/statcast.py:85: FutureWarning: The behavior of DataFrame concatenation with empty or all-NA entries is deprecated. In a future version, this will no longer exclude empty or all-NA columns when determining the result dtypes. To retain the old behavior, exclude the relevant entries before the concat operation.\n",
      "  final_data = pd.concat(dataframe_list, axis=0).convert_dtypes(convert_string=False)\n"
     ]
    },
    {
     "data": {
      "text/plain": [
       "(4794, 113)"
      ]
     },
     "execution_count": 60,
     "metadata": {},
     "output_type": "execute_result"
    }
   ],
   "source": [
    "d = pybaseball.statcast()\n",
    "d.shape"
   ]
  },
  {
   "cell_type": "code",
   "execution_count": 61,
   "id": "ab11d7be-dcec-4d44-92dd-95635f13e0e6",
   "metadata": {},
   "outputs": [
    {
     "data": {
      "text/html": [
       "<div>\n",
       "<style scoped>\n",
       "    .dataframe tbody tr th:only-of-type {\n",
       "        vertical-align: middle;\n",
       "    }\n",
       "\n",
       "    .dataframe tbody tr th {\n",
       "        vertical-align: top;\n",
       "    }\n",
       "\n",
       "    .dataframe thead th {\n",
       "        text-align: right;\n",
       "    }\n",
       "</style>\n",
       "<table border=\"1\" class=\"dataframe\">\n",
       "  <thead>\n",
       "    <tr style=\"text-align: right;\">\n",
       "      <th></th>\n",
       "      <th>pitch_type</th>\n",
       "      <th>game_date</th>\n",
       "      <th>release_speed</th>\n",
       "      <th>release_pos_x</th>\n",
       "      <th>release_pos_z</th>\n",
       "      <th>player_name</th>\n",
       "      <th>batter</th>\n",
       "      <th>pitcher</th>\n",
       "      <th>events</th>\n",
       "      <th>description</th>\n",
       "      <th>...</th>\n",
       "      <th>n_thruorder_pitcher</th>\n",
       "      <th>n_priorpa_thisgame_player_at_bat</th>\n",
       "      <th>pitcher_days_since_prev_game</th>\n",
       "      <th>batter_days_since_prev_game</th>\n",
       "      <th>pitcher_days_until_next_game</th>\n",
       "      <th>batter_days_until_next_game</th>\n",
       "      <th>api_break_z_with_gravity</th>\n",
       "      <th>api_break_x_arm</th>\n",
       "      <th>api_break_x_batter_in</th>\n",
       "      <th>arm_angle</th>\n",
       "    </tr>\n",
       "  </thead>\n",
       "  <tbody>\n",
       "    <tr>\n",
       "      <th>281</th>\n",
       "      <td>FC</td>\n",
       "      <td>2025-05-04</td>\n",
       "      <td>89.9</td>\n",
       "      <td>-2.65</td>\n",
       "      <td>5.74</td>\n",
       "      <td>McGreevy, Michael</td>\n",
       "      <td>607043</td>\n",
       "      <td>700241</td>\n",
       "      <td>field_out</td>\n",
       "      <td>hit_into_play</td>\n",
       "      <td>...</td>\n",
       "      <td>3</td>\n",
       "      <td>4</td>\n",
       "      <td>&lt;NA&gt;</td>\n",
       "      <td>&lt;NA&gt;</td>\n",
       "      <td>&lt;NA&gt;</td>\n",
       "      <td>&lt;NA&gt;</td>\n",
       "      <td>2.1</td>\n",
       "      <td>-0.3</td>\n",
       "      <td>0.3</td>\n",
       "      <td>&lt;NA&gt;</td>\n",
       "    </tr>\n",
       "    <tr>\n",
       "      <th>331</th>\n",
       "      <td>SI</td>\n",
       "      <td>2025-05-04</td>\n",
       "      <td>92.8</td>\n",
       "      <td>-2.46</td>\n",
       "      <td>5.66</td>\n",
       "      <td>McGreevy, Michael</td>\n",
       "      <td>668901</td>\n",
       "      <td>700241</td>\n",
       "      <td>field_out</td>\n",
       "      <td>hit_into_play</td>\n",
       "      <td>...</td>\n",
       "      <td>3</td>\n",
       "      <td>4</td>\n",
       "      <td>&lt;NA&gt;</td>\n",
       "      <td>&lt;NA&gt;</td>\n",
       "      <td>&lt;NA&gt;</td>\n",
       "      <td>&lt;NA&gt;</td>\n",
       "      <td>2.14</td>\n",
       "      <td>1.11</td>\n",
       "      <td>1.11</td>\n",
       "      <td>&lt;NA&gt;</td>\n",
       "    </tr>\n",
       "    <tr>\n",
       "      <th>354</th>\n",
       "      <td>FF</td>\n",
       "      <td>2025-05-04</td>\n",
       "      <td>94.7</td>\n",
       "      <td>-2.32</td>\n",
       "      <td>5.79</td>\n",
       "      <td>McGreevy, Michael</td>\n",
       "      <td>668901</td>\n",
       "      <td>700241</td>\n",
       "      <td>NaN</td>\n",
       "      <td>foul</td>\n",
       "      <td>...</td>\n",
       "      <td>3</td>\n",
       "      <td>4</td>\n",
       "      <td>&lt;NA&gt;</td>\n",
       "      <td>&lt;NA&gt;</td>\n",
       "      <td>&lt;NA&gt;</td>\n",
       "      <td>&lt;NA&gt;</td>\n",
       "      <td>1.29</td>\n",
       "      <td>0.68</td>\n",
       "      <td>0.68</td>\n",
       "      <td>&lt;NA&gt;</td>\n",
       "    </tr>\n",
       "    <tr>\n",
       "      <th>391</th>\n",
       "      <td>SI</td>\n",
       "      <td>2025-05-04</td>\n",
       "      <td>91.4</td>\n",
       "      <td>-2.49</td>\n",
       "      <td>5.61</td>\n",
       "      <td>McGreevy, Michael</td>\n",
       "      <td>668901</td>\n",
       "      <td>700241</td>\n",
       "      <td>NaN</td>\n",
       "      <td>swinging_strike</td>\n",
       "      <td>...</td>\n",
       "      <td>3</td>\n",
       "      <td>4</td>\n",
       "      <td>&lt;NA&gt;</td>\n",
       "      <td>&lt;NA&gt;</td>\n",
       "      <td>&lt;NA&gt;</td>\n",
       "      <td>&lt;NA&gt;</td>\n",
       "      <td>2.6</td>\n",
       "      <td>1.05</td>\n",
       "      <td>1.05</td>\n",
       "      <td>&lt;NA&gt;</td>\n",
       "    </tr>\n",
       "    <tr>\n",
       "      <th>414</th>\n",
       "      <td>ST</td>\n",
       "      <td>2025-05-04</td>\n",
       "      <td>83.8</td>\n",
       "      <td>-2.52</td>\n",
       "      <td>5.73</td>\n",
       "      <td>McGreevy, Michael</td>\n",
       "      <td>668901</td>\n",
       "      <td>700241</td>\n",
       "      <td>NaN</td>\n",
       "      <td>ball</td>\n",
       "      <td>...</td>\n",
       "      <td>3</td>\n",
       "      <td>4</td>\n",
       "      <td>&lt;NA&gt;</td>\n",
       "      <td>&lt;NA&gt;</td>\n",
       "      <td>&lt;NA&gt;</td>\n",
       "      <td>&lt;NA&gt;</td>\n",
       "      <td>3.25</td>\n",
       "      <td>-1.01</td>\n",
       "      <td>-1.01</td>\n",
       "      <td>&lt;NA&gt;</td>\n",
       "    </tr>\n",
       "    <tr>\n",
       "      <th>457</th>\n",
       "      <td>FF</td>\n",
       "      <td>2025-05-04</td>\n",
       "      <td>92.7</td>\n",
       "      <td>-2.5</td>\n",
       "      <td>5.77</td>\n",
       "      <td>McGreevy, Michael</td>\n",
       "      <td>668901</td>\n",
       "      <td>700241</td>\n",
       "      <td>NaN</td>\n",
       "      <td>swinging_strike</td>\n",
       "      <td>...</td>\n",
       "      <td>3</td>\n",
       "      <td>4</td>\n",
       "      <td>&lt;NA&gt;</td>\n",
       "      <td>&lt;NA&gt;</td>\n",
       "      <td>&lt;NA&gt;</td>\n",
       "      <td>&lt;NA&gt;</td>\n",
       "      <td>1.6</td>\n",
       "      <td>0.63</td>\n",
       "      <td>0.63</td>\n",
       "      <td>&lt;NA&gt;</td>\n",
       "    </tr>\n",
       "    <tr>\n",
       "      <th>465</th>\n",
       "      <td>SI</td>\n",
       "      <td>2025-05-04</td>\n",
       "      <td>92.3</td>\n",
       "      <td>-2.54</td>\n",
       "      <td>5.62</td>\n",
       "      <td>McGreevy, Michael</td>\n",
       "      <td>668901</td>\n",
       "      <td>700241</td>\n",
       "      <td>NaN</td>\n",
       "      <td>ball</td>\n",
       "      <td>...</td>\n",
       "      <td>3</td>\n",
       "      <td>4</td>\n",
       "      <td>&lt;NA&gt;</td>\n",
       "      <td>&lt;NA&gt;</td>\n",
       "      <td>&lt;NA&gt;</td>\n",
       "      <td>&lt;NA&gt;</td>\n",
       "      <td>2.12</td>\n",
       "      <td>1.34</td>\n",
       "      <td>1.34</td>\n",
       "      <td>&lt;NA&gt;</td>\n",
       "    </tr>\n",
       "    <tr>\n",
       "      <th>517</th>\n",
       "      <td>SI</td>\n",
       "      <td>2025-05-04</td>\n",
       "      <td>92.9</td>\n",
       "      <td>-2.62</td>\n",
       "      <td>5.66</td>\n",
       "      <td>McGreevy, Michael</td>\n",
       "      <td>624413</td>\n",
       "      <td>700241</td>\n",
       "      <td>strikeout</td>\n",
       "      <td>swinging_strike</td>\n",
       "      <td>...</td>\n",
       "      <td>2</td>\n",
       "      <td>4</td>\n",
       "      <td>&lt;NA&gt;</td>\n",
       "      <td>&lt;NA&gt;</td>\n",
       "      <td>&lt;NA&gt;</td>\n",
       "      <td>&lt;NA&gt;</td>\n",
       "      <td>1.94</td>\n",
       "      <td>0.98</td>\n",
       "      <td>0.98</td>\n",
       "      <td>&lt;NA&gt;</td>\n",
       "    </tr>\n",
       "    <tr>\n",
       "      <th>550</th>\n",
       "      <td>SI</td>\n",
       "      <td>2025-05-04</td>\n",
       "      <td>91.3</td>\n",
       "      <td>-2.36</td>\n",
       "      <td>5.75</td>\n",
       "      <td>McGreevy, Michael</td>\n",
       "      <td>624413</td>\n",
       "      <td>700241</td>\n",
       "      <td>NaN</td>\n",
       "      <td>foul</td>\n",
       "      <td>...</td>\n",
       "      <td>2</td>\n",
       "      <td>4</td>\n",
       "      <td>&lt;NA&gt;</td>\n",
       "      <td>&lt;NA&gt;</td>\n",
       "      <td>&lt;NA&gt;</td>\n",
       "      <td>&lt;NA&gt;</td>\n",
       "      <td>2.32</td>\n",
       "      <td>1.17</td>\n",
       "      <td>1.17</td>\n",
       "      <td>&lt;NA&gt;</td>\n",
       "    </tr>\n",
       "    <tr>\n",
       "      <th>557</th>\n",
       "      <td>FF</td>\n",
       "      <td>2025-05-04</td>\n",
       "      <td>92.0</td>\n",
       "      <td>-2.51</td>\n",
       "      <td>5.78</td>\n",
       "      <td>McGreevy, Michael</td>\n",
       "      <td>624413</td>\n",
       "      <td>700241</td>\n",
       "      <td>NaN</td>\n",
       "      <td>called_strike</td>\n",
       "      <td>...</td>\n",
       "      <td>2</td>\n",
       "      <td>4</td>\n",
       "      <td>&lt;NA&gt;</td>\n",
       "      <td>&lt;NA&gt;</td>\n",
       "      <td>&lt;NA&gt;</td>\n",
       "      <td>&lt;NA&gt;</td>\n",
       "      <td>1.55</td>\n",
       "      <td>0.83</td>\n",
       "      <td>0.83</td>\n",
       "      <td>&lt;NA&gt;</td>\n",
       "    </tr>\n",
       "  </tbody>\n",
       "</table>\n",
       "<p>10 rows × 113 columns</p>\n",
       "</div>"
      ],
      "text/plain": [
       "    pitch_type  game_date  release_speed  release_pos_x  release_pos_z  \\\n",
       "281         FC 2025-05-04           89.9          -2.65           5.74   \n",
       "331         SI 2025-05-04           92.8          -2.46           5.66   \n",
       "354         FF 2025-05-04           94.7          -2.32           5.79   \n",
       "391         SI 2025-05-04           91.4          -2.49           5.61   \n",
       "414         ST 2025-05-04           83.8          -2.52           5.73   \n",
       "457         FF 2025-05-04           92.7           -2.5           5.77   \n",
       "465         SI 2025-05-04           92.3          -2.54           5.62   \n",
       "517         SI 2025-05-04           92.9          -2.62           5.66   \n",
       "550         SI 2025-05-04           91.3          -2.36           5.75   \n",
       "557         FF 2025-05-04           92.0          -2.51           5.78   \n",
       "\n",
       "           player_name  batter  pitcher     events      description  ...  \\\n",
       "281  McGreevy, Michael  607043   700241  field_out    hit_into_play  ...   \n",
       "331  McGreevy, Michael  668901   700241  field_out    hit_into_play  ...   \n",
       "354  McGreevy, Michael  668901   700241        NaN             foul  ...   \n",
       "391  McGreevy, Michael  668901   700241        NaN  swinging_strike  ...   \n",
       "414  McGreevy, Michael  668901   700241        NaN             ball  ...   \n",
       "457  McGreevy, Michael  668901   700241        NaN  swinging_strike  ...   \n",
       "465  McGreevy, Michael  668901   700241        NaN             ball  ...   \n",
       "517  McGreevy, Michael  624413   700241  strikeout  swinging_strike  ...   \n",
       "550  McGreevy, Michael  624413   700241        NaN             foul  ...   \n",
       "557  McGreevy, Michael  624413   700241        NaN    called_strike  ...   \n",
       "\n",
       "     n_thruorder_pitcher  n_priorpa_thisgame_player_at_bat  \\\n",
       "281                    3                                 4   \n",
       "331                    3                                 4   \n",
       "354                    3                                 4   \n",
       "391                    3                                 4   \n",
       "414                    3                                 4   \n",
       "457                    3                                 4   \n",
       "465                    3                                 4   \n",
       "517                    2                                 4   \n",
       "550                    2                                 4   \n",
       "557                    2                                 4   \n",
       "\n",
       "     pitcher_days_since_prev_game  batter_days_since_prev_game  \\\n",
       "281                          <NA>                         <NA>   \n",
       "331                          <NA>                         <NA>   \n",
       "354                          <NA>                         <NA>   \n",
       "391                          <NA>                         <NA>   \n",
       "414                          <NA>                         <NA>   \n",
       "457                          <NA>                         <NA>   \n",
       "465                          <NA>                         <NA>   \n",
       "517                          <NA>                         <NA>   \n",
       "550                          <NA>                         <NA>   \n",
       "557                          <NA>                         <NA>   \n",
       "\n",
       "     pitcher_days_until_next_game batter_days_until_next_game  \\\n",
       "281                          <NA>                        <NA>   \n",
       "331                          <NA>                        <NA>   \n",
       "354                          <NA>                        <NA>   \n",
       "391                          <NA>                        <NA>   \n",
       "414                          <NA>                        <NA>   \n",
       "457                          <NA>                        <NA>   \n",
       "465                          <NA>                        <NA>   \n",
       "517                          <NA>                        <NA>   \n",
       "550                          <NA>                        <NA>   \n",
       "557                          <NA>                        <NA>   \n",
       "\n",
       "    api_break_z_with_gravity api_break_x_arm api_break_x_batter_in arm_angle  \n",
       "281                      2.1            -0.3                   0.3      <NA>  \n",
       "331                     2.14            1.11                  1.11      <NA>  \n",
       "354                     1.29            0.68                  0.68      <NA>  \n",
       "391                      2.6            1.05                  1.05      <NA>  \n",
       "414                     3.25           -1.01                 -1.01      <NA>  \n",
       "457                      1.6            0.63                  0.63      <NA>  \n",
       "465                     2.12            1.34                  1.34      <NA>  \n",
       "517                     1.94            0.98                  0.98      <NA>  \n",
       "550                     2.32            1.17                  1.17      <NA>  \n",
       "557                     1.55            0.83                  0.83      <NA>  \n",
       "\n",
       "[10 rows x 113 columns]"
      ]
     },
     "execution_count": 61,
     "metadata": {},
     "output_type": "execute_result"
    }
   ],
   "source": [
    "d[:10]"
   ]
  },
  {
   "cell_type": "markdown",
   "id": "04256bc2-f198-4e57-a77d-fce63d3505e6",
   "metadata": {},
   "source": [
    "Field documentation is at https://baseballsavant.mlb.com/csv-docs.\n",
    "\n",
    "Rough quickie initial notes on relevant fields - to start with based on the docs, which don't have all the fields I see in the actual data below:\n",
    "\n",
    "- pitch_type for ground truth ('pitch_name' maps 1:1 and is it spelled out - i.e. 'FF' and '4-Seam Fastball')\n",
    "- potentially and/or likely useful for prediction:\n",
    "    - release_speed\n",
    "    - pitcher - MLB player ID, for per-pitcher learning\n",
    "    - pfx_x and pfx_z - horiz/vert movement in feet from catcher's perspective\n",
    "    - plate_x and plate_z - horiz/vert position of ball when it crosses home place; see a [few](https://billpetti.github.io/baseballr/articles/using_statcast_pitch_data.html) [posts](https://www.reddit.com/r/Sabermetrics/comments/nentrm/can_someone_explain_what_pfx_z_is_from/) for some more context on these and pfx_* .\n",
    "    - vx0, vy0, vz0 - velocity of pitch in ft/sec, in each dimension at y=50 ft; how diff in info from release_speed?\n",
    "    - ax, ay, az - acceleration of pitch in ft/sec, in each dimension at y=50 ft\n",
    "    - effective_speed - 'derived speed based on the extension of the pitcher's release'\n",
    "    - release_spin_rate - spin rate of pitch\n",
    "    - spin_axis - spin axis in the 2D X-Z plane in degrees from 0-360, where 180 is a 'pure backspin fastball' and 0 is a 'pure topsping - 12-6 - curveball'\n",
    "    - release_extension - 'release extension' in feet\n",
    "- maybe useful, for ex w/ some addtl preprocessing or other work, or given more thought:\n",
    "    - release_pos_x and release_pos_z\n",
    "    - if_fielding_alignment/of_fielding_alignment - infield/outfield fielding alignment at time of pitch\n",
    "    - stand - side of plate batter is standing\n",
    "    - p_throws - hand pitcher throws with\n",
    "    - balls - pre-pitch number of balls in count\n",
    "    - strikes - pre-pitch number of strikes in count\n",
    "    - game_year - year game took place (change over time?)\n",
    "    - outs_when_up - pre-pitch number of outs\n",
    "    - inning - pre-pitch inning number\n",
    "    - on_1b, on_2b, on_3b - MLB player IDs of runners on base\n",
    "    - release_pos_y - 'release position' of pitch in feet from catcher's perspective\n",
    "    - pitch_number - total pitch number of the plate appearance\n",
    "    - bat_score and fld_score - pre-pitch batting/fielding team scores\n",
    "\n",
    "Seems like there are a relatively small number of fields that most directly relate to the kind of pitch - things like release speed, movement, and spin rate/axis, as well as the actual pitcher given that folks typically throw different pitches and with different distributions over the pitches thrown - and also a potentially somewhat larger set of fields that could be correlated with changes in pitches thrown/give hints at what a pitch could be/likelihood of a particular pitch being thrown in different cases - like the game situation (runners on base, balls/strikes, etc.).   "
   ]
  },
  {
   "cell_type": "code",
   "execution_count": 62,
   "id": "8ed431cc-5473-4576-ae5c-df2af1180bc1",
   "metadata": {},
   "outputs": [
    {
     "data": {
      "text/plain": [
       "pitch_type                                                                         FC\n",
       "game_date                                                         2025-05-04 00:00:00\n",
       "release_speed                                                                    89.9\n",
       "release_pos_x                                                                   -2.65\n",
       "release_pos_z                                                                    5.74\n",
       "player_name                                                         McGreevy, Michael\n",
       "batter                                                                         607043\n",
       "pitcher                                                                        700241\n",
       "events                                                                      field_out\n",
       "description                                                             hit_into_play\n",
       "spin_dir                                                                         <NA>\n",
       "spin_rate_deprecated                                                             <NA>\n",
       "break_angle_deprecated                                                           <NA>\n",
       "break_length_deprecated                                                          <NA>\n",
       "zone                                                                                2\n",
       "des                                 Brandon Nimmo flies out to left fielder Lars N...\n",
       "game_type                                                                           R\n",
       "stand                                                                               L\n",
       "p_throws                                                                            R\n",
       "home_team                                                                         STL\n",
       "away_team                                                                         NYM\n",
       "type                                                                                X\n",
       "hit_location                                                                        7\n",
       "bb_type                                                                      fly_ball\n",
       "balls                                                                               0\n",
       "strikes                                                                             0\n",
       "game_year                                                                        2025\n",
       "pfx_x                                                                             0.3\n",
       "pfx_z                                                                            0.75\n",
       "plate_x                                                                         -0.18\n",
       "plate_z                                                                           3.0\n",
       "on_3b                                                                            <NA>\n",
       "on_2b                                                                            <NA>\n",
       "on_1b                                                                            <NA>\n",
       "outs_when_up                                                                        2\n",
       "inning                                                                              9\n",
       "inning_topbot                                                                     Top\n",
       "hc_x                                                                            78.23\n",
       "hc_y                                                                            72.29\n",
       "tfs_deprecated                                                                   <NA>\n",
       "tfs_zulu_deprecated                                                              <NA>\n",
       "umpire                                                                           <NA>\n",
       "sv_id                                                                            <NA>\n",
       "vx0                                                                          5.563479\n",
       "vy0                                                                        -130.81804\n",
       "vz0                                                                         -2.354631\n",
       "ax                                                                           2.103743\n",
       "ay                                                                           31.17594\n",
       "az                                                                         -23.285975\n",
       "sz_top                                                                           3.61\n",
       "sz_bot                                                                           1.66\n",
       "hit_distance_sc                                                                   335\n",
       "launch_speed                                                                     99.2\n",
       "launch_angle                                                                       40\n",
       "effective_speed                                                                  90.5\n",
       "release_spin_rate                                                                2224\n",
       "release_extension                                                                 7.0\n",
       "game_pk                                                                        778068\n",
       "fielder_2                                                                      650968\n",
       "fielder_3                                                                      676475\n",
       "fielder_4                                                                      680977\n",
       "fielder_5                                                                      571448\n",
       "fielder_6                                                                      676480\n",
       "fielder_7                                                                      663457\n",
       "fielder_8                                                                      687363\n",
       "fielder_9                                                                      691023\n",
       "release_pos_y                                                                   53.54\n",
       "estimated_ba_using_speedangle                                                   0.086\n",
       "estimated_woba_using_speedangle                                                 0.156\n",
       "woba_value                                                                        0.0\n",
       "woba_denom                                                                          1\n",
       "babip_value                                                                         0\n",
       "iso_value                                                                           0\n",
       "launch_speed_angle                                                                  3\n",
       "at_bat_number                                                                      79\n",
       "pitch_number                                                                        1\n",
       "pitch_name                                                                     Cutter\n",
       "home_score                                                                          5\n",
       "away_score                                                                          4\n",
       "bat_score                                                                           4\n",
       "fld_score                                                                           5\n",
       "post_away_score                                                                     4\n",
       "post_home_score                                                                     5\n",
       "post_bat_score                                                                      4\n",
       "post_fld_score                                                                      5\n",
       "if_fielding_alignment                                                   Infield shade\n",
       "of_fielding_alignment                                                        Standard\n",
       "spin_axis                                                                         213\n",
       "delta_home_win_exp                                                              0.035\n",
       "delta_run_exp                                                                  -0.256\n",
       "bat_speed                                                                        74.9\n",
       "swing_length                                                                      7.3\n",
       "estimated_slg_using_speedangle                                                  0.303\n",
       "delta_pitcher_run_exp                                                           0.256\n",
       "hyper_speed                                                                      99.2\n",
       "home_score_diff                                                                     1\n",
       "bat_score_diff                                                                     -1\n",
       "home_win_exp                                                                    0.965\n",
       "bat_win_exp                                                                     0.035\n",
       "age_pit_legacy                                                                     24\n",
       "age_bat_legacy                                                                     32\n",
       "age_pit                                                                            25\n",
       "age_bat                                                                            32\n",
       "n_thruorder_pitcher                                                                 3\n",
       "n_priorpa_thisgame_player_at_bat                                                    4\n",
       "pitcher_days_since_prev_game                                                     <NA>\n",
       "batter_days_since_prev_game                                                      <NA>\n",
       "pitcher_days_until_next_game                                                     <NA>\n",
       "batter_days_until_next_game                                                      <NA>\n",
       "api_break_z_with_gravity                                                          2.1\n",
       "api_break_x_arm                                                                  -0.3\n",
       "api_break_x_batter_in                                                             0.3\n",
       "arm_angle                                                                        <NA>\n",
       "Name: 281, dtype: object"
      ]
     },
     "execution_count": 62,
     "metadata": {},
     "output_type": "execute_result"
    }
   ],
   "source": [
    "d.iloc[0]"
   ]
  },
  {
   "cell_type": "code",
   "execution_count": 63,
   "id": "76fc0d38-13d5-4aa3-bbd4-cd9713dfb8c9",
   "metadata": {},
   "outputs": [
    {
     "data": {
      "text/plain": [
       "pitch_type\n",
       "FF    1354\n",
       "SI     957\n",
       "SL     697\n",
       "CH     545\n",
       "ST     383\n",
       "CU     343\n",
       "FC     311\n",
       "FS     125\n",
       "KC      72\n",
       "CS       5\n",
       "PO       1\n",
       "SV       1\n",
       "Name: count, dtype: int64"
      ]
     },
     "execution_count": 63,
     "metadata": {},
     "output_type": "execute_result"
    }
   ],
   "source": [
    "d['pitch_type'].value_counts(dropna=False)"
   ]
  },
  {
   "cell_type": "code",
   "execution_count": 64,
   "id": "622868df-e023-4855-9fa1-20c42b8a55bb",
   "metadata": {},
   "outputs": [
    {
     "data": {
      "text/plain": [
       "<Axes: xlabel='release_speed', ylabel='effective_speed'>"
      ]
     },
     "execution_count": 64,
     "metadata": {},
     "output_type": "execute_result"
    },
    {
     "data": {
      "image/png": "[encoded data removed]",
      "text/plain": [
       "<Figure size 640x480 with 1 Axes>"
      ]
     },
     "metadata": {},
     "output_type": "display_data"
    }
   ],
   "source": [
    "sns.scatterplot(x=d['release_speed'], y=d['effective_speed'])"
   ]
  },
  {
   "cell_type": "code",
   "execution_count": 65,
   "id": "6cc6ed71-2916-4815-941c-30a2ce392126",
   "metadata": {},
   "outputs": [
    {
     "data": {
      "text/plain": [
       "pitch_name       pitch_type\n",
       "4-Seam Fastball  FF            1354\n",
       "Changeup         CH             545\n",
       "Curveball        CU             343\n",
       "Cutter           FC             311\n",
       "Knuckle Curve    KC              72\n",
       "Pitch Out        PO               1\n",
       "Sinker           SI             957\n",
       "Slider           SL             697\n",
       "Slow Curve       CS               5\n",
       "Slurve           SV               1\n",
       "Split-Finger     FS             125\n",
       "Sweeper          ST             383\n",
       "dtype: int64"
      ]
     },
     "execution_count": 65,
     "metadata": {},
     "output_type": "execute_result"
    }
   ],
   "source": [
    "d.groupby(['pitch_name','pitch_type']).size()"
   ]
  },
  {
   "cell_type": "code",
   "execution_count": 66,
   "id": "b6e8a8ce-e0ca-4473-af45-7fc791bb409a",
   "metadata": {},
   "outputs": [
    {
     "data": {
      "text/plain": [
       "<seaborn.axisgrid.FacetGrid at 0x310b2ca90>"
      ]
     },
     "execution_count": 66,
     "metadata": {},
     "output_type": "execute_result"
    },
    {
     "data": {
      "image/png": "[encoded data removed]",
      "text/plain": [
       "<Figure size 500x500 with 1 Axes>"
      ]
     },
     "metadata": {},
     "output_type": "display_data"
    }
   ],
   "source": [
    "sns.displot(d['pfx_x'])"
   ]
  },
  {
   "cell_type": "code",
   "execution_count": 67,
   "id": "9fdf7c67-0d01-46d6-b8a3-007a6fb20efe",
   "metadata": {},
   "outputs": [
    {
     "data": {
      "text/plain": [
       "<seaborn.axisgrid.FacetGrid at 0x310b0d4d0>"
      ]
     },
     "execution_count": 67,
     "metadata": {},
     "output_type": "execute_result"
    },
    {
     "data": {
      "image/png": "[encoded data removed]",
      "text/plain": [
       "<Figure size 500x500 with 1 Axes>"
      ]
     },
     "metadata": {},
     "output_type": "display_data"
    }
   ],
   "source": [
    "sns.displot(d['pfx_z'])"
   ]
  },
  {
   "cell_type": "code",
   "execution_count": 68,
   "id": "19f6370d-b7db-4943-aae3-5ae73f0b60fc",
   "metadata": {},
   "outputs": [
    {
     "data": {
      "text/plain": [
       "<seaborn.axisgrid.FacetGrid at 0x310a52050>"
      ]
     },
     "execution_count": 68,
     "metadata": {},
     "output_type": "execute_result"
    },
    {
     "data": {
      "image/png": "[encoded data removed]",
      "text/plain": [
       "<Figure size 500x500 with 1 Axes>"
      ]
     },
     "metadata": {},
     "output_type": "display_data"
    }
   ],
   "source": [
    "sns.displot(d['plate_x'])"
   ]
  },
  {
   "cell_type": "code",
   "execution_count": 69,
   "id": "b3deb7d6-ba69-4087-9c86-19241cdec9c2",
   "metadata": {},
   "outputs": [
    {
     "data": {
      "text/plain": [
       "<seaborn.axisgrid.FacetGrid at 0x3109d54d0>"
      ]
     },
     "execution_count": 69,
     "metadata": {},
     "output_type": "execute_result"
    },
    {
     "data": {
      "image/png": "[encoded data removed]",
      "text/plain": [
       "<Figure size 500x500 with 1 Axes>"
      ]
     },
     "metadata": {},
     "output_type": "display_data"
    }
   ],
   "source": [
    "sns.displot(d['plate_z'])"
   ]
  },
  {
   "cell_type": "code",
   "execution_count": 70,
   "id": "558e53fb-6e91-448a-90b8-c6bdad3239f7",
   "metadata": {},
   "outputs": [
    {
     "data": {
      "text/plain": [
       "<seaborn.axisgrid.FacetGrid at 0x310be7450>"
      ]
     },
     "execution_count": 70,
     "metadata": {},
     "output_type": "execute_result"
    },
    {
     "data": {
      "image/png": "[encoded data removed]",
      "text/plain": [
       "<Figure size 500x500 with 1 Axes>"
      ]
     },
     "metadata": {},
     "output_type": "display_data"
    }
   ],
   "source": [
    "sns.displot(d['release_spin_rate'])"
   ]
  },
  {
   "cell_type": "code",
   "execution_count": 71,
   "id": "2fcda6cc-2fc0-416b-8396-804dae5ffa79",
   "metadata": {},
   "outputs": [
    {
     "data": {
      "text/plain": [
       "<seaborn.axisgrid.FacetGrid at 0x310e2a290>"
      ]
     },
     "execution_count": 71,
     "metadata": {},
     "output_type": "execute_result"
    },
    {
     "data": {
      "image/png": "[encoded data removed]",
      "text/plain": [
       "<Figure size 500x500 with 1 Axes>"
      ]
     },
     "metadata": {},
     "output_type": "display_data"
    }
   ],
   "source": [
    "sns.displot(d['spin_axis'])"
   ]
  },
  {
   "cell_type": "markdown",
   "id": "fc1e3a3d-5b8b-4758-82cd-dcc6170cae36",
   "metadata": {},
   "source": [
    "# Preprocessing"
   ]
  },
  {
   "cell_type": "code",
   "execution_count": 72,
   "id": "9f14b489-4890-489f-85fe-d906a28034a3",
   "metadata": {},
   "outputs": [],
   "source": [
    "from sklearn.preprocessing import LabelEncoder\n",
    "from sklearn.preprocessing import StandardScaler\n",
    "from sklearn.model_selection import train_test_split"
   ]
  },
  {
   "cell_type": "code",
   "execution_count": 73,
   "id": "694d0a20-d8cc-4eb9-8ffc-996c3286f323",
   "metadata": {},
   "outputs": [],
   "source": [
    "x_feature_names = ['release_speed', 'pfx_x', 'pfx_z', 'release_spin_rate', 'spin_axis']\n",
    "y_feature_name = 'pitch_name'"
   ]
  },
  {
   "cell_type": "code",
   "execution_count": 74,
   "id": "3aa66339-7cf7-4677-bfdf-5a2037a140dc",
   "metadata": {},
   "outputs": [
    {
     "data": {
      "text/plain": [
       "(281             Cutter\n",
       " 331             Sinker\n",
       " 354    4-Seam Fastball\n",
       " 391             Sinker\n",
       " 414            Sweeper\n",
       " Name: pitch_name, dtype: object,\n",
       " array([ 3,  6,  0,  6, 11]))"
      ]
     },
     "execution_count": 74,
     "metadata": {},
     "output_type": "execute_result"
    }
   ],
   "source": [
    "# torch wants integer indices for categorical labels, not the strings we have\n",
    "y_label_encoder = LabelEncoder()\n",
    "y_encoded = y_label_encoder.fit_transform(d[y_feature_name])\n",
    "d[y_feature_name][:5], y_encoded[:5]"
   ]
  },
  {
   "cell_type": "code",
   "execution_count": 75,
   "id": "ea1cbccb-8f79-4a62-b955-21f0b82bb525",
   "metadata": {},
   "outputs": [
    {
     "name": "stdout",
     "output_type": "stream",
     "text": [
      "(3835, 5) (959, 5) (3835,) (959,)\n"
     ]
    }
   ],
   "source": [
    "X_train, X_test, y_train, y_test = train_test_split(d[x_feature_names], y_encoded, test_size=0.2)\n",
    "print(X_train.shape, X_test.shape, y_train.shape, y_test.shape)"
   ]
  },
  {
   "cell_type": "code",
   "execution_count": 76,
   "id": "f980be12-fbd0-4caf-aa39-d4ca7468b589",
   "metadata": {},
   "outputs": [],
   "source": [
    "scaler = StandardScaler()\n",
    "X_train_scaled = scaler.fit_transform(X_train)\n",
    "X_test_scaled = scaler.transform(X_test)"
   ]
  },
  {
   "cell_type": "code",
   "execution_count": 77,
   "id": "ca9b4e46-ce77-4350-b101-a989ca155b28",
   "metadata": {},
   "outputs": [
    {
     "data": {
      "text/plain": [
       "count       3835.0\n",
       "mean     89.581773\n",
       "std       5.635665\n",
       "min           72.1\n",
       "25%           85.1\n",
       "50%           90.7\n",
       "75%           94.2\n",
       "max          101.8\n",
       "Name: release_speed, dtype: Float64"
      ]
     },
     "execution_count": 77,
     "metadata": {},
     "output_type": "execute_result"
    }
   ],
   "source": [
    "X_train['release_speed'].describe()"
   ]
  },
  {
   "cell_type": "code",
   "execution_count": 78,
   "id": "a35e0ad9-b17d-48f5-bbf8-f7186f917dc8",
   "metadata": {},
   "outputs": [
    {
     "data": {
      "text/plain": [
       "(np.float64(2.2603967082850645e-15), np.float64(1.0))"
      ]
     },
     "execution_count": 78,
     "metadata": {},
     "output_type": "execute_result"
    }
   ],
   "source": [
    "X_train_scaled[:,0].mean(), X_train_scaled[:,0].std()"
   ]
  },
  {
   "cell_type": "markdown",
   "id": "54a4c302-f977-4ed0-9a1a-16ac355dce17",
   "metadata": {},
   "source": [
    "# First rough quick cut at a DNN"
   ]
  },
  {
   "cell_type": "code",
   "execution_count": 86,
   "id": "2415d95d-8d50-4ddc-9d04-6054879b3a49",
   "metadata": {},
   "outputs": [],
   "source": [
    "import torch\n",
    "import torch.nn as nn\n",
    "from torch.utils.data import TensorDataset, DataLoader "
   ]
  },
  {
   "cell_type": "code",
   "execution_count": 80,
   "id": "2215c25e-344c-4d42-ab10-60cc0dd46e52",
   "metadata": {},
   "outputs": [
    {
     "data": {
      "text/plain": [
       "(5, 12)"
      ]
     },
     "execution_count": 80,
     "metadata": {},
     "output_type": "execute_result"
    }
   ],
   "source": [
    "count_input_features = len(x_features)\n",
    "count_output_classes = len(d[y_feature].unique())\n",
    "count_input_features, count_output_classes"
   ]
  },
  {
   "cell_type": "code",
   "execution_count": 52,
   "id": "a175c90a-5dec-4c25-9f51-428a79eb3f85",
   "metadata": {},
   "outputs": [],
   "source": [
    "class PitchMLP(nn.Module):\n",
    "    def __init__(self, input_dim, output_dim):\n",
    "        super().__init__()\n",
    "        self.model = nn.Sequential(\n",
    "            nn.Linear(input_dim, 128),\n",
    "            nn.ReLU(),\n",
    "            nn.BatchNorm1d(128),\n",
    "            nn.Dropout(0.2),\n",
    "\n",
    "            nn.Linear(128, 64),\n",
    "            nn.ReLU(),\n",
    "            nn.BatchNorm1d(64),\n",
    "            nn.Dropout(0.2),\n",
    "\n",
    "            nn.Linear(64, output_dim)\n",
    "            # no softmax in the model, as the torch CrossEntropyLoss expects raw logits\n",
    "        )\n",
    "\n",
    "    def forward(self, x):\n",
    "        return self.model(x)"
   ]
  },
  {
   "cell_type": "markdown",
   "id": "7f769cdb-698a-4273-bd30-44f7be1c157c",
   "metadata": {},
   "source": [
    "The below is quick for initial exploratory understanding - I think in practice I'd want to do something like a custom DataSet class that encapsulates things like encoding and scaling."
   ]
  },
  {
   "cell_type": "code",
   "execution_count": 89,
   "id": "5f666131-1b3b-40f1-a103-5a0646aafe5c",
   "metadata": {},
   "outputs": [],
   "source": [
    "X_train_tensor = torch.tensor(X_train_scaled, dtype=torch.float32)\n",
    "y_train_tensor = torch.tensor(y_train, dtype=torch.long)\n",
    "\n",
    "X_test_tensor = torch.tensor(X_test_scaled, dtype=torch.float32)\n",
    "y_test_tensor = torch.tensor(y_test, dtype=torch.long)\n",
    "\n",
    "train_dataset = TensorDataset(X_train_tensor, y_train_tensor)\n",
    "test_dataset = TensorDataset(X_test_tensor, y_test_tensor)\n",
    "\n",
    "batch_size = 32\n",
    "train_loader = DataLoader(train_dataset, batch_size=batch_size)\n",
    "test_loader = DataLoader(test_dataset, batch_size=batch_size)"
   ]
  },
  {
   "cell_type": "code",
   "execution_count": 95,
   "id": "4a658549-0181-4f2d-8542-b2c640d933ed",
   "metadata": {},
   "outputs": [
    {
     "name": "stdout",
     "output_type": "stream",
     "text": [
      "PitchMLP(\n",
      "  (model): Sequential(\n",
      "    (0): Linear(in_features=5, out_features=128, bias=True)\n",
      "    (1): ReLU()\n",
      "    (2): BatchNorm1d(128, eps=1e-05, momentum=0.1, affine=True, track_running_stats=True)\n",
      "    (3): Dropout(p=0.2, inplace=False)\n",
      "    (4): Linear(in_features=128, out_features=64, bias=True)\n",
      "    (5): ReLU()\n",
      "    (6): BatchNorm1d(64, eps=1e-05, momentum=0.1, affine=True, track_running_stats=True)\n",
      "    (7): Dropout(p=0.2, inplace=False)\n",
      "    (8): Linear(in_features=64, out_features=12, bias=True)\n",
      "  )\n",
      ")\n",
      "Trainable params: 10188\n",
      "\n",
      "Epoch 1: loss = 135.2249\n",
      "Epoch 2: loss = 80.7308\n",
      "Epoch 3: loss = 73.2386\n",
      "Epoch 4: loss = 67.2423\n",
      "Epoch 5: loss = 64.0596\n",
      "Epoch 6: loss = 61.7947\n",
      "Epoch 7: loss = 60.8238\n",
      "Epoch 8: loss = 59.1616\n",
      "Epoch 9: loss = 58.4342\n",
      "Epoch 10: loss = 56.3634\n",
      "Epoch 11: loss = 54.6957\n",
      "Epoch 12: loss = 54.1339\n",
      "Epoch 13: loss = 53.8747\n",
      "Epoch 14: loss = 53.6791\n",
      "Epoch 15: loss = 51.2050\n",
      "Epoch 16: loss = 51.4488\n",
      "Epoch 17: loss = 50.6560\n",
      "Epoch 18: loss = 50.6607\n",
      "Epoch 19: loss = 49.8487\n",
      "Epoch 20: loss = 50.5191\n",
      "Epoch 21: loss = 50.3149\n",
      "Epoch 22: loss = 47.6254\n",
      "Epoch 23: loss = 47.8156\n",
      "Epoch 24: loss = 47.3963\n",
      "Epoch 25: loss = 47.7942\n"
     ]
    }
   ],
   "source": [
    "model = PitchMLP(input_dim=count_input_features, output_dim=count_output_classes)\n",
    "optimizer = torch.optim.Adam(model.parameters(), lr=0.001)\n",
    "criterion = nn.CrossEntropyLoss()\n",
    "\n",
    "print(model)\n",
    "print(f'Trainable params: {sum(p.numel() for p in model.parameters())}')\n",
    "print()\n",
    "\n",
    "for epoch in range(25):\n",
    "    model.train()\n",
    "    total_loss = 0\n",
    "    for X_batch, y_batch in train_loader:\n",
    "        optimizer.zero_grad()\n",
    "        outputs = model(X_batch)\n",
    "        loss = criterion(outputs, y_batch)\n",
    "        loss.backward()\n",
    "        optimizer.step()\n",
    "        total_loss += loss.item()\n",
    "    print(f'Epoch {epoch+1}: loss = {total_loss:.4f}')"
   ]
  },
  {
   "cell_type": "markdown",
   "id": "e6af49d4-3654-46d1-8191-99b47479dec9",
   "metadata": {},
   "source": [
    "Perhaps want to add periodic (or every time?) checking w/ the test set, and plot curves, next."
   ]
  },
  {
   "cell_type": "code",
   "execution_count": null,
   "id": "461784b9-2637-40b6-95af-5f0826430714",
   "metadata": {},
   "outputs": [],
   "source": []
  }
 ],
 "metadata": {
  "kernelspec": {
   "display_name": "Python 3 (ipykernel)",
   "language": "python",
   "name": "python3"
  },
  "language_info": {
   "codemirror_mode": {
    "name": "ipython",
    "version": 3
   },
   "file_extension": ".py",
   "mimetype": "text/x-python",
   "name": "python",
   "nbconvert_exporter": "python",
   "pygments_lexer": "ipython3",
   "version": "3.11.11"
  }
 },
 "nbformat": 4,
 "nbformat_minor": 5
}
